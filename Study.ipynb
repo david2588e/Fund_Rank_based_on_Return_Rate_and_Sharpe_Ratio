{
  "nbformat": 4,
  "nbformat_minor": 0,
  "metadata": {
    "colab": {
      "name": "Untitled0.ipynb",
      "provenance": [],
      "authorship_tag": "ABX9TyMPxjQWdMW3jugrZij09N33",
      "include_colab_link": true
    },
    "kernelspec": {
      "name": "python3",
      "display_name": "Python 3"
    }
  },
  "cells": [
    {
      "cell_type": "markdown",
      "metadata": {
        "id": "view-in-github",
        "colab_type": "text"
      },
      "source": [
        "<a href=\"https://colab.research.google.com/github/david2588e/Fund_Rank_based_on_Return_Rate_and_Sharpe_Ratio/blob/master/Study.ipynb\" target=\"_parent\"><img src=\"https://colab.research.google.com/assets/colab-badge.svg\" alt=\"Open In Colab\"/></a>"
      ]
    },
    {
      "cell_type": "code",
      "metadata": {
        "id": "fSwLCyIo0HPS"
      },
      "source": [
        "from matplotlib import pyplot as plt\r\n",
        "from mpl_toolkits.mplot3d import Axes3D \r\n",
        "#定义坐标轴\r\n",
        "fig = plt.figure()\r\n",
        "ax1 = plt.axes(projection='3d')\r\n",
        "#ax = fig.add_subplot(111,projection='3d') \r\n",
        "#这种方法也可以画多个子图\r\n",
        "#方法二，利用三维轴方法\r\n",
        "from matplotlib import pyplot as plt\r\n",
        "from mpl_toolkits.mplot3d import Axes3D\r\n",
        "#定义图像和三维格式坐标轴\r\n",
        "fig=plt.figure()\r\n",
        "\r\n",
        "\r\n",
        "import numpy as np\r\n",
        "z = np.linspace(0,13,1000)\r\n",
        "x = 5*np.sin(z)\r\n",
        "y = 5*np.cos(z)\r\n",
        "zd = 13*np.random.random(100)\r\n",
        "xd = 5*np.sin(zd)\r\n",
        "yd = 5*np.cos(zd)\r\n",
        "ax1.scatter3D(xd,yd,zd, cmap='Blues') #绘制散点图\r\n",
        "ax1.plot3D(x,y,z,'gray') #绘制空间曲线\r\n",
        "plt.show()"
      ],
      "execution_count": null,
      "outputs": []
    }
  ]
}